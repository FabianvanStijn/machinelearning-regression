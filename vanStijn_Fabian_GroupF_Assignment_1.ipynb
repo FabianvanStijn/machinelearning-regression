{
 "cells": [
  {
   "cell_type": "markdown",
   "metadata": {},
   "source": [
    "\n",
    "### Name: Fabian van Stijn\n",
    "\n",
    "### Student ID: 11906448\n",
    "\n",
    "### Group: F\n",
    "\n",
    "Please fill in you name, student ID and group above, and also edit the filename according to the specified format."
   ]
  },
  {
   "cell_type": "markdown",
   "metadata": {},
   "source": [
    "# Polynomial Regression and Cross Validation\n",
    "\n",
    "For the first assignment we will do something that might seem familiar from *Probability Theory for Machine Learning*; try to fit a polynomial function to a provided dataset. Fitting a function is a quintessential example of *supervised learning*, specifically *regression*, making it a great place to start using machines to learn about *machine learning*. There are several concepts here that are applicable to lots of *supervised learning* algorithms, so it will be good to cover them in a familiar context first.\n",
    "\n",
    "The notion of a *cost function* will be introduced here, which describes how well a given model fits the provided data. This function can then be minimized in several different ways, depending on complexity of the model and associated cost function, e.g. using *gradient descent* to iteratively approach the minimum or computing the minimum directly using an analytic method, both of which you may have seen some version of before.\n",
    "\n",
    "We will start with the most basic model (linear) and compute the parameters that minimize the cost function directly, based on the derivate. It is important that you try and comprehend what you are doing in this most basic version (instead of just blindly trying to implement functions until they seem to work), as it will help you understand the more complex models that use the same principles later on. This means actually **watching the linked videos** and computing the partial derivates yourself to verify you understand all of the steps. \n",
    "\n",
    "The other common concept introduced is model selection using *cross validation*. In this assignment it will be used to determine the degree of the polynomial we are fitting. Both cross validation for model selection and minizing a the cost function to achieve the best possible fit, are used in many other supervised models, like for example *neural networks*.\n",
    "\n",
    "## Material\n",
    "\n",
    "The material for this assignment is based on sections **2.6 - 2.8** and **4.6 - 4.8** of the book *[Introduction to Machine Learning](https://www.cmpe.boun.edu.tr/~ethem/i2ml3e/)* by Ethem Alpaydin. In addition, there will be links to videos from Andrew Ng's *[Machine Learning course on Coursera](https://www.coursera.org/learn/machine-learning)* to provide some extra explanations and help create intuitions.\n",
    "\n",
    "Generally speaking, using built-in functions will be fine for this course, but for this assignment you **may not** use any of the polynomial functions listed [here](https://docs.scipy.org/doc/numpy/reference/routines.polynomials.poly1d.html) or other built-in polynomial solution methods. You can of course use them to check your own implementations work correctly.\n",
    "\n",
    "In total there are *27* points available in this exercise. Below are some imports to get your started. You do not need to add any code for this cell to work, just make sure you run the cell to actually import the libraries in your notebook.\n"
   ]
  },
  {
   "cell_type": "code",
   "execution_count": 12,
   "metadata": {},
   "outputs": [],
   "source": [
    "%matplotlib inline\n",
    "\n",
    "import numpy as np\n",
    "import matplotlib.pyplot as plt\n",
    "import array as array"
   ]
  },
  {
   "cell_type": "markdown",
   "metadata": {},
   "source": [
    "## Loading the data [1 pt]\n",
    "\n",
    "Write a function to read the data stored in the file *points.csv* and convert it to a *Numpy* array. Each line in the file is a data point consisting of an **x**-value and **r**-value, separated by a comma. You could use Numpy's [loadtxt](https://docs.scipy.org/doc/numpy/reference/generated/numpy.loadtxt.html), or any other method of your choice to read csv-files and convert that to the correct type.\n",
    "\n",
    "Test your function and print the resulting array to make sure you know what the data looks like."
   ]
  },
  {
   "cell_type": "code",
   "execution_count": 13,
   "metadata": {},
   "outputs": [
    {
     "name": "stdout",
     "output_type": "stream",
     "text": [
      "[[-5.00000000e+00  4.20260155e+01]\n",
      " [-4.65517241e+00  5.93194247e+01]\n",
      " [-4.31034483e+00 -5.88431515e+01]\n",
      " [-3.96551724e+00 -6.69165975e+01]\n",
      " [-3.62068966e+00 -1.15078069e+02]\n",
      " [-3.27586207e+00 -7.97426725e+01]\n",
      " [-2.93103448e+00 -5.51717987e+01]\n",
      " [-2.58620690e+00 -3.51889839e+01]\n",
      " [-2.24137931e+00 -2.70522179e+01]\n",
      " [-1.89655172e+00 -6.09114952e-01]\n",
      " [-1.55172414e+00 -3.15679234e+01]\n",
      " [-1.20689655e+00 -3.84826305e+01]\n",
      " [-8.62068966e-01 -1.58177415e+01]\n",
      " [-5.17241379e-01 -1.80653645e+01]\n",
      " [-1.72413793e-01  3.06491073e+01]\n",
      " [ 1.72413793e-01  4.51857925e+01]\n",
      " [ 5.17241379e-01 -3.38493633e+01]\n",
      " [ 8.62068966e-01 -6.53415429e+00]\n",
      " [ 1.20689655e+00 -1.80395279e+00]\n",
      " [ 1.55172414e+00  2.00521571e+01]\n",
      " [ 1.89655172e+00  1.04010654e+01]\n",
      " [ 2.24137931e+00  2.63662035e+01]\n",
      " [ 2.58620690e+00  5.19151860e+01]\n",
      " [ 2.93103448e+00  9.85175983e+01]\n",
      " [ 3.27586207e+00  2.00295883e+02]\n",
      " [ 3.62068966e+00  2.54697656e+02]\n",
      " [ 3.96551724e+00  3.26024319e+02]\n",
      " [ 4.31034483e+00  4.98548820e+02]\n",
      " [ 4.65517241e+00  6.49658929e+02]\n",
      " [ 5.00000000e+00  8.47241909e+02]]\n"
     ]
    }
   ],
   "source": [
    "def load_file(filename):\n",
    "    np_array = np.loadtxt(filename, delimiter=',')\n",
    "    return(np_array)\n",
    "    \n",
    "print(load_file(\"points.csv\"))\n"
   ]
  },
  {
   "cell_type": "markdown",
   "metadata": {},
   "source": [
    "## Plotting the points [2 pt]\n",
    "\n",
    "Write a function to separate your data into an X vector and a R vector using [slicing](https://docs.scipy.org/doc/numpy/reference/arrays.indexing.html).\n",
    "\n",
    "Using both vectors, create a graph containing the plotted points you just read from the file. For this you can use the *matplotlib* functions [plot](http://matplotlib.org/api/pyplot_api.html#matplotlib.pyplot.plot) and [show](http://matplotlib.org/api/pyplot_api.html#matplotlib.pyplot.show). A plot of data should be visble below your code."
   ]
  },
  {
   "cell_type": "code",
   "execution_count": 14,
   "metadata": {},
   "outputs": [
    {
     "data": {
      "text/plain": [
       "<matplotlib.collections.PathCollection at 0x1b2a823aeb8>"
      ]
     },
     "execution_count": 14,
     "metadata": {},
     "output_type": "execute_result"
    },
    {
     "data": {
      "image/png": "[encoded data removed]",
      "text/plain": [
       "<Figure size 432x288 with 1 Axes>"
      ]
     },
     "metadata": {},
     "output_type": "display_data"
    }
   ],
   "source": [
    "points = load_file(\"points.csv\")\n",
    "\n",
    "def split_X_R(data):\n",
    "    X = data[:,0]\n",
    "    R = data[:,1]\n",
    "   \n",
    "    return(X,R)\n",
    "X,R= split_X_R(points)\n",
    "plt.scatter(X,R)\n",
    "\n"
   ]
  },
  {
   "cell_type": "markdown",
   "metadata": {},
   "source": [
    "## Defining the linear model [1 pt]\n",
    "\n",
    "Now we are going to try to find the function which best relates these points. We will start by fitting a simple linear function of the form\n",
    "\n",
    "(2.15) $$g(x) = w_1x + w_0$$\n",
    "\n",
    "*For more detailed description of linear regression, watch Andrew's videos on the topic. The notation is slightly different, $y$ instead of $r$ for the output, and $\\theta$ instead of $w$ for the model parameters, but the actual model is identical.*\n",
    "* [Supervised Learning](https://www.youtube.com/watch?v=ls7Ke48jCt8&list=PLZ9qNFMHZ-A4rycgrgOYma6zxF4BZGGPW&index=3)\n",
    "* [Linear Model](https://www.youtube.com/watch?v=PBZUjnGuXjA&list=PLZ9qNFMHZ-A4rycgrgOYma6zxF4BZGGPW&index=5)\n",
    "\n",
    "Now write a function that computes the predicted output value $g(x)$ given a value of $x$ and the parameters $w_0$ and $w_1$. This should be very straightforward, but make sure you understand what part this plays in our supervised learning problem before moving on."
   ]
  },
  {
   "cell_type": "code",
   "execution_count": 15,
   "metadata": {},
   "outputs": [],
   "source": [
    "def linear_model(w0, w1, x):\n",
    "    return w1*x+w0\n",
    "    \n"
   ]
  },
  {
   "cell_type": "markdown",
   "metadata": {},
   "source": [
    "## Creating the cost function [2 pt]\n",
    "\n",
    "The cost function is defined as the sum of the squared errors of each prediction\n",
    "\n",
    "(2.16) $$E(w_1, w_0|X) = \\frac{1}{N}\\sum^N_{t=1} [r^t - (w_1x^t + w_0)]^2$$\n",
    "\n",
    "*These videos are great for building intuition on the relation between the hypothesis function and the associated cost of that hypothesis for the data.*\n",
    "* [Cost function 1](https://www.youtube.com/watch?v=EANr4YttXIQ&list=PLZ9qNFMHZ-A4rycgrgOYma6zxF4BZGGPW&index=6)\n",
    "* [Cost function 2](https://www.youtube.com/watch?v=J5vJFwQWOaY&list=PLZ9qNFMHZ-A4rycgrgOYma6zxF4BZGGPW&index=7)\n",
    "\n",
    "Write a function to compute the cost based on the dataset $X$, $R$ and parameters $w_0$ and $w_1$. Based on your plot of the data, try to estimate some sensible values for $w_0$ and $w_1$ and compute the corresponding cost. Try at least 3 different guesses and print their cost. Order the prints of your guesses from highest to lowest cost."
   ]
  },
  {
   "cell_type": "code",
   "execution_count": 16,
   "metadata": {},
   "outputs": [
    {
     "name": "stdout",
     "output_type": "stream",
     "text": [
      "49.24036040616091\n",
      "1.7001305211059692\n",
      "-65.65619131797096\n"
     ]
    }
   ],
   "source": [
    "def linear_cost(w0, w1, X, R):\n",
    "    return 1/len(X) * np.sum(R-linear_model(w0,w1,X)**2)\n",
    "print(linear_cost(1, 2, X, R))\n",
    "print(linear_cost(2, 3, X, R))\n",
    "print(linear_cost(3, 4, X, R))\n"
   ]
  },
  {
   "cell_type": "markdown",
   "metadata": {},
   "source": [
    "## Fitting the linear model [4 pt]\n",
    "\n",
    "We can find the minimum value of the cost function by taking the partial derivatives of that cost function for both of the weights $w_0$ and $w_1$ and setting them equal to $0$, resulting in the equations\n",
    "\n",
    "(2.17a) $$w_1 = \\frac{\\sum_tx^tr^t - \\bar{x}\\bar{r}N}{\\sum_t(x^t)^2 - N\\bar{x}^2}$$\n",
    "(2.17b) $$w_0 = \\bar{r} - w_1\\bar{x}$$\n",
    "\n",
    "You can compute the partial derivates of equation *2.16* yourself and set them both equal to zero, to check you understand where these two equations come from. Minimizing the cost function gives us the best possible parameters for a linear model predicting the values of the provided dataset. *Note:* If you are unfamiliar with the notation $\\bar{x}$, it is defined in *Alpaydin* too, below equation *2.17*.\n",
    "\n",
    "Write a function which computes the optimal values of $w_0$ and $w_1$ for a dataset consisting of the vectors $X$ and $R$, containing $N$ elements each. Use *matplotlib* again to plot the points, but now also add the line representing the hypothesis function you found. As the line is linear, you can simply plot it by computing the 2 end points and have *matplotlib* draw the connecting line.\n",
    "\n",
    "Note that with some clever [array operations](https://docs.scipy.org/doc/numpy/reference/routines.array-manipulation.html) and [linear algebra](https://docs.scipy.org/doc/numpy/reference/routines.linalg.html) you can avoid explicitly looping over all the elements in $X$ and $R$ in `linear_fit`, which will make you code a lot faster. However, this is just an optional extra and any working implementation of the equations above will be considered correct."
   ]
  },
  {
   "cell_type": "code",
   "execution_count": 17,
   "metadata": {},
   "outputs": [
    {
     "data": {
      "text/plain": [
       "[<matplotlib.lines.Line2D at 0x1b2a8269860>]"
      ]
     },
     "execution_count": 17,
     "metadata": {},
     "output_type": "execute_result"
    },
    {
     "data": {
      "image/png": "[encoded data removed]",
      "text/plain": [
       "<Figure size 432x288 with 1 Axes>"
      ]
     },
     "metadata": {},
     "output_type": "display_data"
    }
   ],
   "source": [
    "def linear_fit(X, R, N):\n",
    "    w1 = (np.sum(X*R)-np.mean(X)*np.mean(R)*N)/(np.sum(X**2)-N*np.mean(X)**2)\n",
    "    w0 = np.mean(R)-w1*np.mean(X)\n",
    "    return(w1, w0)\n",
    "\n",
    "w1, w0 = linear_fit(X, R, len(X))\n",
    "\n",
    "plt.scatter(X,R)\n",
    "y = linear_model(w0, w1, -5)\n",
    "y2 = linear_model(w0, w1, 5)\n",
    "x = -5\n",
    "x2 = 5\n",
    "plt.plot([x, x2],[y,y2])\n",
    "\n",
    "\n",
    "    \n"
   ]
  },
  {
   "cell_type": "markdown",
   "metadata": {
    "collapsed": true
   },
   "source": [
    "## Polynomial data [3 pt]\n",
    "\n",
    "The linear model can easily be extended to polynomials of any order by expanding the original input with the squared input $x^2$, the cubed input $x^3$, etc and adding additional weights to the model. For ease of calculation, the input is also expanded with a vector of $1$'s, to represent the input for the constant parameter $w_0$. The parameters then become $w_0$, $w_1$, $w_2$, etc., one factor for each term of the polynomial.\n",
    "\n",
    "So if originally the dataset of $N$ elements is of the form $X$ (superscripts are indices here)\n",
    "\n",
    "$$ X = \\left[\\begin{array}{c} x^1 \\\\ x^2 \\\\ \\vdots \\\\ x^N \\end{array} \\right]$$\n",
    "\n",
    "Then the matrix $D$ for a $k^{th}$-order polynomial becomes\n",
    "\n",
    "$$ D = \\left[\\begin{array}{cccc}\n",
    "1 & x^1 & (x^1)^2 & \\cdots & (x^1)^k \\\\ \n",
    "1 & x^2 & (x^2)^2 & \\cdots & (x^2)^k \\\\ \n",
    "\\vdots \\\\\n",
    "1 & x^N & (x^N)^2 & \\cdots & (x^N)^k \\\\ \n",
    "\\end{array} \\right]$$\n",
    "\n",
    "Write a function `create_D_matrix` that constructs this matrix for a given vector $X$ up the specified order $k$. Looking at plots for the dataset we have been using so far, the relationship between the points will probably be at least be quadratic. Use the function to construct a matrix $D$ of order $2$, print the matrix and verify that it looks correct."
   ]
  },
  {
   "cell_type": "code",
   "execution_count": 18,
   "metadata": {},
   "outputs": [
    {
     "name": "stdout",
     "output_type": "stream",
     "text": [
      "[[ 1.         -5.         25.        ]\n",
      " [ 1.         -4.65517241 21.6706302 ]\n",
      " [ 1.         -4.31034483 18.57907253]\n",
      " [ 1.         -3.96551724 15.72532699]\n",
      " [ 1.         -3.62068966 13.10939358]\n",
      " [ 1.         -3.27586207 10.73127229]\n",
      " [ 1.         -2.93103448  8.59096314]\n",
      " [ 1.         -2.5862069   6.68846611]\n",
      " [ 1.         -2.24137931  5.02378121]\n",
      " [ 1.         -1.89655172  3.59690844]\n",
      " [ 1.         -1.55172414  2.4078478 ]\n",
      " [ 1.         -1.20689655  1.45659929]\n",
      " [ 1.         -0.86206897  0.7431629 ]\n",
      " [ 1.         -0.51724138  0.26753864]\n",
      " [ 1.         -0.17241379  0.02972652]\n",
      " [ 1.          0.17241379  0.02972652]\n",
      " [ 1.          0.51724138  0.26753864]\n",
      " [ 1.          0.86206897  0.7431629 ]\n",
      " [ 1.          1.20689655  1.45659929]\n",
      " [ 1.          1.55172414  2.4078478 ]\n",
      " [ 1.          1.89655172  3.59690844]\n",
      " [ 1.          2.24137931  5.02378121]\n",
      " [ 1.          2.5862069   6.68846611]\n",
      " [ 1.          2.93103448  8.59096314]\n",
      " [ 1.          3.27586207 10.73127229]\n",
      " [ 1.          3.62068966 13.10939358]\n",
      " [ 1.          3.96551724 15.72532699]\n",
      " [ 1.          4.31034483 18.57907253]\n",
      " [ 1.          4.65517241 21.6706302 ]\n",
      " [ 1.          5.         25.        ]]\n"
     ]
    }
   ],
   "source": [
    "def create_D_matrix(X, k):\n",
    "    array = []\n",
    "    power_of_zero = np.ones(len(X))\n",
    "    matrix = np.array(X)\n",
    "    #array.append(power_of_zero)\n",
    "    #array.append(D)\n",
    "    for i in range(k+1):\n",
    "        array.append(matrix**i)\n",
    "    return np.transpose(array)\n",
    "    #return np.matrix(array).T\n",
    "    #return array\n",
    "D = create_D_matrix(X,2)\n",
    "print(D)    \n",
    "    \n"
   ]
  },
  {
   "cell_type": "markdown",
   "metadata": {},
   "source": [
    "## Polynomial model [2 pt]\n",
    "\n",
    "The parameters can now be represented as\n",
    "\n",
    "$$ w = \\left[\\begin{array}{c} w_0 \\\\ w_1 \\\\ \\vdots \\\\ w_k \\end{array} \\right]$$\n",
    "\n",
    "The hypothesis for a single input then just becomes\n",
    "\n",
    "$$ g(x^1) = \\sum_{i=0}^k D^1_iw_i $$\n",
    "\n",
    "Which can write as a matrix multiplication for all inputs in a single equation\n",
    "\n",
    "$$ \\left[\\begin{array}{cccc}\n",
    "1 & x^1 & (x^1)^2 & \\cdots & (x^1)^k \\\\ \n",
    "1 & x^2 & (x^2)^2 & \\cdots & (x^2)^k \\\\ \n",
    "\\vdots \\\\\n",
    "1 & x^N & (x^N)^2 & \\cdots & (x^N)^k \\\\ \n",
    "\\end{array} \\right]\n",
    "\\left[\\begin{array}{c} w_0 \\\\ w_1 \\\\ \\vdots \\\\ w_k \\end{array} \\right] = \\left[\\begin{array}{c} g(x^1) \\\\ g(x^2) \\\\ \\vdots \\\\ g(x^N) \\end{array} \\right]$$\n",
    "\n",
    "You can do matrix multiplication using the [dot](https://docs.scipy.org/doc/numpy/reference/generated/numpy.dot.html) function. Write 2 functions for computing the polynomial below\n",
    "\n",
    "* `poly_val` should take a single input value $x$ and a vector of polynomial weights $W$ and compute the single hypothesis value for that input.\n",
    "* `poly_model` should take a matrix $D$ and weight vector $W$ and compute the corresponding vector of hypotheses. \n"
   ]
  },
  {
   "cell_type": "code",
   "execution_count": 19,
   "metadata": {},
   "outputs": [],
   "source": [
    "def poly_val(x, W):\n",
    "    D_row = [x**k for k in range(len(W))]\n",
    "    return np.sum(np.dot(D_row, W))\n",
    "    \n",
    "\n",
    "def poly_model(D, W):\n",
    "    return np.dot(D, W)\n",
    "    "
   ]
  },
  {
   "cell_type": "markdown",
   "metadata": {},
   "source": [
    "## Polynomial cost function and model fitting [3 pts]\n",
    "\n",
    "And for the cost function we can now use\n",
    "\n",
    "$$ E(w|X) = \\frac{1}{2N} \\sum_{t=1}^N [r^t - D^tw]^2$$\n",
    "\n",
    "Here, we compute the hypothesis $g(x)$ for every example using $D^tw$, take the difference with the actual output $r$ and finally square and sum each difference. Note that this is extremely similar to the mean squared error function we used for the linear case, and also that minimizing this error function is actually equivalent to maximizing the log likelihood of the parameter vector $w$ (see equations $4.31$ and $4.32$).\n",
    "\n",
    "Now we have the cost function equation and can again take the partial derivative for each of the weights $w_0$ to $w_k$ and set their value equal to $0$. Solving the resulting system of equations will give the set of weights that minimize the cost function. The weights describing this lowest point of the cost function are the parameters which will produce the line that best fits our dataset.\n",
    "\n",
    "Solving all partial derivate equations for each weight can actually be done with just a couple of matrix operations. Deriving the equation yourself can be a bit involved, but know that the principle is exactly the same as for the linear model computing just $w_0$ and $w_1$. The final equation for weight vector becomes\n",
    "\n",
    "(4.33) $$ w = (D^TD)^{-1}D^Tr $$\n",
    "\n",
    "Numpy has built in functions for [transpose](https://docs.scipy.org/doc/numpy/reference/generated/numpy.transpose.html) and [inverse](https://docs.scipy.org/doc/numpy/reference/generated/numpy.linalg.inv.html). Use them to write the code for the following functions.\n",
    "\n",
    "* `poly_cost` should return the total cost $E$ given $w$, $D$ and $r$\n",
    "* `poly_fit` should return the vector $w$ that bests fits the polynomial relationship between matrix $D$ and vector $r$\n",
    "\n",
    "Using the quadratic matrix $D$ you constructed earlier and this `poly_fit` function, find the best fitting weights for a quadric polynomial on the data and print these weights\n"
   ]
  },
  {
   "cell_type": "code",
   "execution_count": 20,
   "metadata": {},
   "outputs": [],
   "source": [
    "def poly_cost(W, D, R):\n",
    "    return (1/2*len(R))*np.sum((R-np.dot(D,W))**2)\n",
    "    \n",
    "\n",
    "def poly_fit(D, R):\n",
    "    return np.dot(np.dot(np.linalg.inv(np.dot(np.transpose(D), D)),np.transpose(D)),R)\n",
    "W = poly_fit(D,R)"
   ]
  },
  {
   "cell_type": "markdown",
   "metadata": {},
   "source": [
    "## Plotting polynomials [1 pt]\n",
    "\n",
    "Now lets try and figure out what our fitted quadratic polynomial looks like. As the function is not linear, we will need more than just 2 points to actually plot the line. The easiest solution is to create a whole bunch of x-values as samples, compute the corresponding y-values and plot those. With enough samples the line will look smooth, even if it is connected with linear segments.\n",
    "\n",
    "To create these x-values samples, we can use the function [linspace](https://docs.scipy.org/doc/numpy/reference/generated/numpy.linspace.html). Then just use the `poly_val` function you wrote earlier and apply it to every x-value to compute the array of y-values. Now just plot the original datapoints as dots and the hypothesis as a line, just as for the linear plot. Don't forget to show your plot at the end.\n",
    "\n",
    "Use these steps to fill in the `poly_plot` function below and show the polynomial function defined by the weights you found for the quadratic polynomial."
   ]
  },
  {
   "cell_type": "code",
   "execution_count": 21,
   "metadata": {},
   "outputs": [
    {
     "data": {
      "image/png": "[encoded data removed]",
      "text/plain": [
       "<Figure size 432x288 with 1 Axes>"
      ]
     },
     "metadata": {},
     "output_type": "display_data"
    }
   ],
   "source": [
    "def poly_plot(W, X, R):\n",
    "    plt.scatter(X,R)\n",
    "    X_values = np.linspace(-5, 5, num=30)\n",
    "    Y_values = []\n",
    "    for i in X_values:\n",
    "        Y_values.append(poly_val(i, W))\n",
    "    plt.plot(X_values, Y_values)\n",
    "poly_plot(W, X, R)"
   ]
  },
  {
   "cell_type": "markdown",
   "metadata": {},
   "source": [
    "## Polynomial order [1 pt]\n",
    "\n",
    "You can now create a polynomial fit on the data for a polynomial of any order. The next question then becomes: *What order polynomial fits the data the best?*\n",
    "\n",
    "Using the `create_D_matrix`, `poly_fit` and `poly_plot`, try to fit different order polynomials to the data. Show the plot for the order polynomial you think fits best.\n",
    "\n",
    "Note that the cost function will most likely decrease with each added polynomial term, as there is more flexibility in the model to fit the data points exactly. However, these weights will fit those few data points very well, but might have very extreme values in between points that would not be good predictors for new inputs. Something like an order 20 polynomial might have a very well fitting shape for the existing data points, but looks like it would be strange predictor at some of the possible other points. Try to find a fit that looks visually like it would generalize well to new points.\n"
   ]
  },
  {
   "cell_type": "code",
   "execution_count": 27,
   "metadata": {},
   "outputs": [
    {
     "data": {
      "image/png": "[encoded data removed]",
      "text/plain": [
       "<Figure size 432x288 with 1 Axes>"
      ]
     },
     "metadata": {},
     "output_type": "display_data"
    }
   ],
   "source": [
    "W1 = poly_fit(create_D_matrix(X,4),R)\n",
    "poly_plot(W1, X, R)"
   ]
  },
  {
   "cell_type": "markdown",
   "metadata": {},
   "source": [
    "## Cross validation [2 pt]\n",
    "\n",
    "Another way to answer this same question is to use cross validation. With cross validation you split the data into 2 parts and use one part to fit the model (training set) and the other part to see how well the model fits the remaining data (validation set).\n",
    "\n",
    "Write a function below to split the original dataset into 2 sets according to a given ratio. It is important to randomize your division, as simply using the first half of data for the one set and the second half for the other, might result in a strange distribution. You could use a function like [shuffle](https://docs.scipy.org/doc/numpy/reference/generated/numpy.random.shuffle.html) for this purpose.\n",
    "\n",
    "Split the original dataset using a ratio of 0.6 into a training and a validation set. Then for both of these sets, use your old `split_X_R` function to split them into their $X$ and $R$ parts"
   ]
  },
  {
   "cell_type": "code",
   "execution_count": 37,
   "metadata": {},
   "outputs": [
    {
     "name": "stdout",
     "output_type": "stream",
     "text": [
      "(array([-3.62068966, -4.31034483,  0.17241379, -0.17241379, -0.86206897,\n",
      "        1.20689655,  4.65517241, -3.27586207,  1.89655172, -1.20689655,\n",
      "        4.31034483, -2.93103448, -5.        ,  3.27586207,  1.55172414,\n",
      "        2.5862069 ,  0.51724138,  3.62068966]), array([-115.07806948,  -58.84315149,   45.18579253,   30.64910729,\n",
      "        -15.81774154,   -1.80395279,  649.65892857,  -79.74267251,\n",
      "         10.40106537,  -38.48263048,  498.54882047,  -55.17179873,\n",
      "         42.02601552,  200.29588273,   20.05215713,   51.91518599,\n",
      "        -33.84936326,  254.69765647]))\n",
      "(array([-2.24137931,  0.86206897,  2.24137931,  5.        , -1.55172414,\n",
      "        3.96551724, -3.96551724, -0.51724138, -4.65517241,  2.93103448,\n",
      "       -2.5862069 , -1.89655172]), array([-2.70522179e+01, -6.53415429e+00,  2.63662035e+01,  8.47241909e+02,\n",
      "       -3.15679234e+01,  3.26024319e+02, -6.69165975e+01, -1.80653645e+01,\n",
      "        5.93194247e+01,  9.85175983e+01, -3.51889839e+01, -6.09114952e-01]))\n"
     ]
    }
   ],
   "source": [
    "def validation_split(data, ratio):\n",
    "    np.random.shuffle(data)\n",
    "    training_set = []\n",
    "    val_set = []\n",
    "    training_set = data[:round(len(data)*ratio)]\n",
    "    val_set = data[round(len(data)*ratio):]\n",
    "    training_set = split_X_R(training_set)\n",
    "    val_set = split_X_R(val_set)\n",
    "    return training_set, val_set\n",
    "training_set, val_set = validation_split(points, 0.6)\n",
    "\n",
    "print(training_set)\n",
    "print(val_set)"
   ]
  },
  {
   "cell_type": "markdown",
   "metadata": {},
   "source": [
    "## Model selection [5 pt]\n",
    "\n",
    "With this new split of the data you can just repeatedly fit different order polynomials to the training set and see which produces the lowest cost on the validation set. The set of weights with the lowests cost on the validation set generalizes the best to new data and is thus the best overal fit on the dataset.\n",
    "\n",
    "Write the function `best_poly_fit` below. Try a large range of polynomial orders (like 1 to 50), create the $D$ matrix based on the training set for each order and fit the weights for that polynomial. Then for each of these found weights, also create the D matrix for the validation set and compute the cost using `poly_cost`. Return the set of weights with the lowest cost on the validation set.\n",
    "\n",
    "Run this fitting function with your training and validation sets. Plot the hypothesis function and show the weights that were found. Note that rerunning your validation split code above will result in a different random distribution and thus a slightly different final fit."
   ]
  },
  {
   "cell_type": "code",
   "execution_count": 38,
   "metadata": {},
   "outputs": [
    {
     "data": {
      "image/png": "[encoded data removed]",
      "text/plain": [
       "<Figure size 432x288 with 1 Axes>"
      ]
     },
     "metadata": {},
     "output_type": "display_data"
    }
   ],
   "source": [
    "def best_poly_fit(train_x, train_r, val_x, val_r):\n",
    "    poly_costs = []\n",
    "    for i in range(1, 50):\n",
    "        D = create_D_matrix(train_x, i)\n",
    "        W = poly_fit(D, train_r)\n",
    "        #print(W)\n",
    "        D2 = create_D_matrix(val_x, i)\n",
    "        poly_costs.append(poly_cost(W, D2, val_r))\n",
    "    min_index = poly_costs.index(min(poly_costs))\n",
    "    D_min = create_D_matrix(train_x, min_index)\n",
    "    W_min = poly_fit(D_min, train_r)\n",
    "    return W_min\n",
    "\n",
    "W_min = best_poly_fit(training_set[0], training_set[1], val_set[0], val_set[1])\n",
    "#print(W_min)\n",
    "poly_plot(W_min, X, R)\n",
    "\n"
   ]
  },
  {
   "cell_type": "code",
   "execution_count": null,
   "metadata": {},
   "outputs": [],
   "source": []
  }
 ],
 "metadata": {
  "kernelspec": {
   "display_name": "Python 3",
   "language": "python",
   "name": "python3"
  },
  "language_info": {
   "codemirror_mode": {
    "name": "ipython",
    "version": 3
   },
   "file_extension": ".py",
   "mimetype": "text/x-python",
   "name": "python",
   "nbconvert_exporter": "python",
   "pygments_lexer": "ipython3",
   "version": "3.6.5"
  }
 },
 "nbformat": 4,
 "nbformat_minor": 2
}
